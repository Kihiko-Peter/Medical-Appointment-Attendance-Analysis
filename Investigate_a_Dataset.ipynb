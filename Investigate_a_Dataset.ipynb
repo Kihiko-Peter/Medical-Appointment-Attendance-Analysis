{
 "cells": [
  {
   "cell_type": "markdown",
   "metadata": {},
   "source": [
    "\n",
    "# Project: No-show medical appointment analysis.\n",
    "\n",
    "## Table of Contents\n",
    "<ul>\n",
    "<li><a href=\"#intro\">Introduction</a></li>\n",
    "<li><a href=\"#wrangling\">Data Wrangling</a></li>\n",
    "<li><a href=\"#eda\">Exploratory Data Analysis</a></li>\n",
    "<li><a href=\"#conclusions\">Conclusions</a></li>\n",
    "</ul>"
   ]
  },
  {
   "cell_type": "markdown",
   "metadata": {},
   "source": [
    "<a id='intro'></a>\n",
    "## Introduction\n",
    "\n",
    "This dataset collects information from 100k medical appointments in Brazil and is focused on the question of whether or not patients show up for their appointment.The analysis seeks to find out factors that determine whether a patient will show up for an appointment or not.\n",
    "\n",
    "### Dataset Description \n",
    "The dataset contains the following columns : \n",
    "\n",
    "\n",
    "PatientId - Patient identification.\n",
    "\n",
    "AppointmentID - Appointment identification.\n",
    "\n",
    "Gender - Patient gender (Male or Female).\n",
    "\n",
    "ScheduledDay - The day patient set up their appointment.\n",
    "\n",
    "AppointmentDay - The day of actual appointment when patient have to visit the doctor.\n",
    "\n",
    "Age - patient Age\n",
    "\n",
    "Neighbourhood - Hospital location.\n",
    "\n",
    "Scholarship - Indicates whether or not the patient is enrolled in Brasilian welfare program Bolsa Família(0 for no & 1 for \n",
    "Yes).\n",
    "\n",
    "Hipertension - Indicates whether or not the patient has hypertension or not(0 for no & 1 for Yes).\n",
    "\n",
    "Diabetes - Indicates whether or not the patient has diabetes or not (0 for no & 1 for Yes).\n",
    "\n",
    "Alcoholism - Indicates whether or not the patient has alcoholism or not (0 for no & 1 for Yes).\n",
    "\n",
    "Handicap - Indicates whether or not the patient has handicap or not (on scale from 0 to 4 )\n",
    "\n",
    "SMS_received = Indicates whether or not the patient received SMS (0 for no & 1 for Yes)\n",
    "\n",
    "No-show = Indicates whether or not the patient attend the appointment(Yes for didn't show, No for show)\n",
    "\n",
    "\n",
    "\n",
    "\n",
    "\n",
    "\n",
    "### Question(s) for Analysis\n",
    "\n",
    "1. Does Gender determine whether a person shows up for an appointment or not?\n",
    "2. Does the age group of a patient affect whether they showed up for an appointment or not?\n",
    "3. How does being alcoholic or having a disease influence whether you show for an appointment or not?\n",
    "4. Does the area a patient lives affect their hospital appointment show up ?"
   ]
  },
  {
   "cell_type": "code",
   "execution_count": 1,
   "metadata": {},
   "outputs": [],
   "source": [
    "# Importing relevant libraries\n",
    "import pandas as pd\n",
    "import numpy as np\n",
    "\n",
    "import seaborn as sns\n",
    "import matplotlib.pyplot as plt\n",
    "%matplotlib inline\n",
    "\n",
    "import warnings\n",
    "warnings.simplefilter(action ='ignore', category=FutureWarning)\n"
   ]
  },
  {
   "cell_type": "markdown",
   "metadata": {},
   "source": [
    "# DATA WRANGLING"
   ]
  },
  {
   "cell_type": "markdown",
   "metadata": {},
   "source": [
    "# 1. Reading Data"
   ]
  },
  {
   "cell_type": "code",
   "execution_count": 2,
   "metadata": {
    "scrolled": true
   },
   "outputs": [
    {
     "data": {
      "text/html": [
       "<div>\n",
       "<style scoped>\n",
       "    .dataframe tbody tr th:only-of-type {\n",
       "        vertical-align: middle;\n",
       "    }\n",
       "\n",
       "    .dataframe tbody tr th {\n",
       "        vertical-align: top;\n",
       "    }\n",
       "\n",
       "    .dataframe thead th {\n",
       "        text-align: right;\n",
       "    }\n",
       "</style>\n",
       "<table border=\"1\" class=\"dataframe\">\n",
       "  <thead>\n",
       "    <tr style=\"text-align: right;\">\n",
       "      <th></th>\n",
       "      <th>PatientId</th>\n",
       "      <th>AppointmentID</th>\n",
       "      <th>Gender</th>\n",
       "      <th>ScheduledDay</th>\n",
       "      <th>AppointmentDay</th>\n",
       "      <th>Age</th>\n",
       "      <th>Neighbourhood</th>\n",
       "      <th>Scholarship</th>\n",
       "      <th>Hipertension</th>\n",
       "      <th>Diabetes</th>\n",
       "      <th>Alcoholism</th>\n",
       "      <th>Handcap</th>\n",
       "      <th>SMS_received</th>\n",
       "      <th>No-show</th>\n",
       "    </tr>\n",
       "  </thead>\n",
       "  <tbody>\n",
       "    <tr>\n",
       "      <th>0</th>\n",
       "      <td>2.987250e+13</td>\n",
       "      <td>5642903</td>\n",
       "      <td>F</td>\n",
       "      <td>2016-04-29T18:38:08Z</td>\n",
       "      <td>2016-04-29T00:00:00Z</td>\n",
       "      <td>62</td>\n",
       "      <td>JARDIM DA PENHA</td>\n",
       "      <td>0</td>\n",
       "      <td>1</td>\n",
       "      <td>0</td>\n",
       "      <td>0</td>\n",
       "      <td>0</td>\n",
       "      <td>0</td>\n",
       "      <td>No</td>\n",
       "    </tr>\n",
       "    <tr>\n",
       "      <th>1</th>\n",
       "      <td>5.589978e+14</td>\n",
       "      <td>5642503</td>\n",
       "      <td>M</td>\n",
       "      <td>2016-04-29T16:08:27Z</td>\n",
       "      <td>2016-04-29T00:00:00Z</td>\n",
       "      <td>56</td>\n",
       "      <td>JARDIM DA PENHA</td>\n",
       "      <td>0</td>\n",
       "      <td>0</td>\n",
       "      <td>0</td>\n",
       "      <td>0</td>\n",
       "      <td>0</td>\n",
       "      <td>0</td>\n",
       "      <td>No</td>\n",
       "    </tr>\n",
       "    <tr>\n",
       "      <th>2</th>\n",
       "      <td>4.262962e+12</td>\n",
       "      <td>5642549</td>\n",
       "      <td>F</td>\n",
       "      <td>2016-04-29T16:19:04Z</td>\n",
       "      <td>2016-04-29T00:00:00Z</td>\n",
       "      <td>62</td>\n",
       "      <td>MATA DA PRAIA</td>\n",
       "      <td>0</td>\n",
       "      <td>0</td>\n",
       "      <td>0</td>\n",
       "      <td>0</td>\n",
       "      <td>0</td>\n",
       "      <td>0</td>\n",
       "      <td>No</td>\n",
       "    </tr>\n",
       "    <tr>\n",
       "      <th>3</th>\n",
       "      <td>8.679512e+11</td>\n",
       "      <td>5642828</td>\n",
       "      <td>F</td>\n",
       "      <td>2016-04-29T17:29:31Z</td>\n",
       "      <td>2016-04-29T00:00:00Z</td>\n",
       "      <td>8</td>\n",
       "      <td>PONTAL DE CAMBURI</td>\n",
       "      <td>0</td>\n",
       "      <td>0</td>\n",
       "      <td>0</td>\n",
       "      <td>0</td>\n",
       "      <td>0</td>\n",
       "      <td>0</td>\n",
       "      <td>No</td>\n",
       "    </tr>\n",
       "    <tr>\n",
       "      <th>4</th>\n",
       "      <td>8.841186e+12</td>\n",
       "      <td>5642494</td>\n",
       "      <td>F</td>\n",
       "      <td>2016-04-29T16:07:23Z</td>\n",
       "      <td>2016-04-29T00:00:00Z</td>\n",
       "      <td>56</td>\n",
       "      <td>JARDIM DA PENHA</td>\n",
       "      <td>0</td>\n",
       "      <td>1</td>\n",
       "      <td>1</td>\n",
       "      <td>0</td>\n",
       "      <td>0</td>\n",
       "      <td>0</td>\n",
       "      <td>No</td>\n",
       "    </tr>\n",
       "  </tbody>\n",
       "</table>\n",
       "</div>"
      ],
      "text/plain": [
       "      PatientId  AppointmentID Gender          ScheduledDay  \\\n",
       "0  2.987250e+13        5642903      F  2016-04-29T18:38:08Z   \n",
       "1  5.589978e+14        5642503      M  2016-04-29T16:08:27Z   \n",
       "2  4.262962e+12        5642549      F  2016-04-29T16:19:04Z   \n",
       "3  8.679512e+11        5642828      F  2016-04-29T17:29:31Z   \n",
       "4  8.841186e+12        5642494      F  2016-04-29T16:07:23Z   \n",
       "\n",
       "         AppointmentDay  Age      Neighbourhood  Scholarship  Hipertension  \\\n",
       "0  2016-04-29T00:00:00Z   62    JARDIM DA PENHA            0             1   \n",
       "1  2016-04-29T00:00:00Z   56    JARDIM DA PENHA            0             0   \n",
       "2  2016-04-29T00:00:00Z   62      MATA DA PRAIA            0             0   \n",
       "3  2016-04-29T00:00:00Z    8  PONTAL DE CAMBURI            0             0   \n",
       "4  2016-04-29T00:00:00Z   56    JARDIM DA PENHA            0             1   \n",
       "\n",
       "   Diabetes  Alcoholism  Handcap  SMS_received No-show  \n",
       "0         0           0        0             0      No  \n",
       "1         0           0        0             0      No  \n",
       "2         0           0        0             0      No  \n",
       "3         0           0        0             0      No  \n",
       "4         1           0        0             0      No  "
      ]
     },
     "execution_count": 2,
     "metadata": {},
     "output_type": "execute_result"
    }
   ],
   "source": [
    "# Load your data and print out a few lines. Perform operations to inspect data\n",
    "#   types and look for instances of missing or possibly errant data.\n",
    "# Lets define a function that reads data\n",
    "\n",
    "def read(data):\n",
    "    return pd.read_csv(data)\n",
    "\n",
    "medical_df = read('noshow.csv')\n",
    "medical_df.head()\n"
   ]
  },
  {
   "cell_type": "markdown",
   "metadata": {},
   "source": [
    "# 2. Data Understanding"
   ]
  },
  {
   "cell_type": "code",
   "execution_count": 3,
   "metadata": {},
   "outputs": [
    {
     "data": {
      "text/plain": [
       "(110527, 14)"
      ]
     },
     "execution_count": 3,
     "metadata": {},
     "output_type": "execute_result"
    }
   ],
   "source": [
    "# Lets check the number of entries\n",
    "medical_df.shape"
   ]
  },
  {
   "cell_type": "markdown",
   "metadata": {},
   "source": [
    "The dataset had 110,527 entries and 14 columns"
   ]
  },
  {
   "cell_type": "code",
   "execution_count": 4,
   "metadata": {},
   "outputs": [
    {
     "name": "stdout",
     "output_type": "stream",
     "text": [
      "The dataset has  0 duplicate(s)\n"
     ]
    }
   ],
   "source": [
    "# Lets check for duplicated values\n",
    "\n",
    "print('The dataset has ', medical_df.duplicated().sum().sum(), 'duplicate(s)')"
   ]
  },
  {
   "cell_type": "code",
   "execution_count": 5,
   "metadata": {},
   "outputs": [
    {
     "name": "stdout",
     "output_type": "stream",
     "text": [
      "The dataset has  0  missing value(s)\n"
     ]
    }
   ],
   "source": [
    "# Lets check for missing values\n",
    "\n",
    "print('The dataset has ', medical_df.isna().sum().sum(), ' missing value(s)')"
   ]
  },
  {
   "cell_type": "code",
   "execution_count": 6,
   "metadata": {},
   "outputs": [
    {
     "data": {
      "text/html": [
       "<div>\n",
       "<style scoped>\n",
       "    .dataframe tbody tr th:only-of-type {\n",
       "        vertical-align: middle;\n",
       "    }\n",
       "\n",
       "    .dataframe tbody tr th {\n",
       "        vertical-align: top;\n",
       "    }\n",
       "\n",
       "    .dataframe thead th {\n",
       "        text-align: right;\n",
       "    }\n",
       "</style>\n",
       "<table border=\"1\" class=\"dataframe\">\n",
       "  <thead>\n",
       "    <tr style=\"text-align: right;\">\n",
       "      <th></th>\n",
       "      <th>PatientId</th>\n",
       "      <th>AppointmentID</th>\n",
       "      <th>Gender</th>\n",
       "      <th>ScheduledDay</th>\n",
       "      <th>AppointmentDay</th>\n",
       "      <th>Age</th>\n",
       "      <th>Neighbourhood</th>\n",
       "      <th>Scholarship</th>\n",
       "      <th>Hipertension</th>\n",
       "      <th>Diabetes</th>\n",
       "      <th>Alcoholism</th>\n",
       "      <th>Handcap</th>\n",
       "      <th>SMS_received</th>\n",
       "      <th>No-show</th>\n",
       "    </tr>\n",
       "  </thead>\n",
       "  <tbody>\n",
       "    <tr>\n",
       "      <th>0</th>\n",
       "      <td>2.987250e+13</td>\n",
       "      <td>5642903</td>\n",
       "      <td>F</td>\n",
       "      <td>2016-04-29T18:38:08Z</td>\n",
       "      <td>2016-04-29T00:00:00Z</td>\n",
       "      <td>62</td>\n",
       "      <td>JARDIM DA PENHA</td>\n",
       "      <td>0</td>\n",
       "      <td>1</td>\n",
       "      <td>0</td>\n",
       "      <td>0</td>\n",
       "      <td>0</td>\n",
       "      <td>0</td>\n",
       "      <td>No</td>\n",
       "    </tr>\n",
       "  </tbody>\n",
       "</table>\n",
       "</div>"
      ],
      "text/plain": [
       "      PatientId  AppointmentID Gender          ScheduledDay  \\\n",
       "0  2.987250e+13        5642903      F  2016-04-29T18:38:08Z   \n",
       "\n",
       "         AppointmentDay  Age    Neighbourhood  Scholarship  Hipertension  \\\n",
       "0  2016-04-29T00:00:00Z   62  JARDIM DA PENHA            0             1   \n",
       "\n",
       "   Diabetes  Alcoholism  Handcap  SMS_received No-show  \n",
       "0         0           0        0             0      No  "
      ]
     },
     "execution_count": 6,
     "metadata": {},
     "output_type": "execute_result"
    }
   ],
   "source": [
    "medical_df.head(1)"
   ]
  },
  {
   "cell_type": "code",
   "execution_count": 7,
   "metadata": {},
   "outputs": [
    {
     "data": {
      "text/plain": [
       "PatientId         float64\n",
       "AppointmentID       int64\n",
       "Gender             object\n",
       "ScheduledDay       object\n",
       "AppointmentDay     object\n",
       "Age                 int64\n",
       "Neighbourhood      object\n",
       "Scholarship         int64\n",
       "Hipertension        int64\n",
       "Diabetes            int64\n",
       "Alcoholism          int64\n",
       "Handcap             int64\n",
       "SMS_received        int64\n",
       "No-show            object\n",
       "dtype: object"
      ]
     },
     "execution_count": 7,
     "metadata": {},
     "output_type": "execute_result"
    }
   ],
   "source": [
    "# Checking for the datatypes\n",
    "\n",
    "medical_df.dtypes"
   ]
  },
  {
   "cell_type": "markdown",
   "metadata": {},
   "source": [
    "The Scheduled Date and Appointment date had wrong data types.\n",
    "\n",
    "Object instead of datetime"
   ]
  },
  {
   "cell_type": "code",
   "execution_count": 8,
   "metadata": {},
   "outputs": [
    {
     "name": "stdout",
     "output_type": "stream",
     "text": [
      "<class 'pandas.core.frame.DataFrame'>\n",
      "RangeIndex: 110527 entries, 0 to 110526\n",
      "Data columns (total 14 columns):\n",
      " #   Column          Non-Null Count   Dtype  \n",
      "---  ------          --------------   -----  \n",
      " 0   PatientId       110527 non-null  float64\n",
      " 1   AppointmentID   110527 non-null  int64  \n",
      " 2   Gender          110527 non-null  object \n",
      " 3   ScheduledDay    110527 non-null  object \n",
      " 4   AppointmentDay  110527 non-null  object \n",
      " 5   Age             110527 non-null  int64  \n",
      " 6   Neighbourhood   110527 non-null  object \n",
      " 7   Scholarship     110527 non-null  int64  \n",
      " 8   Hipertension    110527 non-null  int64  \n",
      " 9   Diabetes        110527 non-null  int64  \n",
      " 10  Alcoholism      110527 non-null  int64  \n",
      " 11  Handcap         110527 non-null  int64  \n",
      " 12  SMS_received    110527 non-null  int64  \n",
      " 13  No-show         110527 non-null  object \n",
      "dtypes: float64(1), int64(8), object(5)\n",
      "memory usage: 11.8+ MB\n"
     ]
    }
   ],
   "source": [
    "# Check the number of non null values in each column\n",
    "\n",
    "medical_df.info()"
   ]
  },
  {
   "cell_type": "code",
   "execution_count": 9,
   "metadata": {},
   "outputs": [
    {
     "data": {
      "text/plain": [
       "PatientId          62299\n",
       "AppointmentID     110527\n",
       "Gender                 2\n",
       "ScheduledDay      103549\n",
       "AppointmentDay        27\n",
       "Age                  104\n",
       "Neighbourhood         81\n",
       "Scholarship            2\n",
       "Hipertension           2\n",
       "Diabetes               2\n",
       "Alcoholism             2\n",
       "Handcap                5\n",
       "SMS_received           2\n",
       "No-show                2\n",
       "dtype: int64"
      ]
     },
     "execution_count": 9,
     "metadata": {},
     "output_type": "execute_result"
    }
   ],
   "source": [
    "# Check the number of unique values in each column\n",
    "medical_df.nunique()"
   ]
  },
  {
   "cell_type": "markdown",
   "metadata": {},
   "source": [
    "We have seven columns which are binary. That is Gender,Scholarship,Hipertension,Diabetes,Alcoholism,SMS received,No-show"
   ]
  },
  {
   "cell_type": "code",
   "execution_count": 10,
   "metadata": {},
   "outputs": [
    {
     "data": {
      "text/html": [
       "<div>\n",
       "<style scoped>\n",
       "    .dataframe tbody tr th:only-of-type {\n",
       "        vertical-align: middle;\n",
       "    }\n",
       "\n",
       "    .dataframe tbody tr th {\n",
       "        vertical-align: top;\n",
       "    }\n",
       "\n",
       "    .dataframe thead th {\n",
       "        text-align: right;\n",
       "    }\n",
       "</style>\n",
       "<table border=\"1\" class=\"dataframe\">\n",
       "  <thead>\n",
       "    <tr style=\"text-align: right;\">\n",
       "      <th></th>\n",
       "      <th>PatientId</th>\n",
       "      <th>AppointmentID</th>\n",
       "      <th>Age</th>\n",
       "      <th>Scholarship</th>\n",
       "      <th>Hipertension</th>\n",
       "      <th>Diabetes</th>\n",
       "      <th>Alcoholism</th>\n",
       "      <th>Handcap</th>\n",
       "      <th>SMS_received</th>\n",
       "    </tr>\n",
       "  </thead>\n",
       "  <tbody>\n",
       "    <tr>\n",
       "      <th>count</th>\n",
       "      <td>1.105270e+05</td>\n",
       "      <td>1.105270e+05</td>\n",
       "      <td>110527.000000</td>\n",
       "      <td>110527.000000</td>\n",
       "      <td>110527.000000</td>\n",
       "      <td>110527.000000</td>\n",
       "      <td>110527.000000</td>\n",
       "      <td>110527.000000</td>\n",
       "      <td>110527.000000</td>\n",
       "    </tr>\n",
       "    <tr>\n",
       "      <th>mean</th>\n",
       "      <td>1.474963e+14</td>\n",
       "      <td>5.675305e+06</td>\n",
       "      <td>37.088874</td>\n",
       "      <td>0.098266</td>\n",
       "      <td>0.197246</td>\n",
       "      <td>0.071865</td>\n",
       "      <td>0.030400</td>\n",
       "      <td>0.022248</td>\n",
       "      <td>0.321026</td>\n",
       "    </tr>\n",
       "    <tr>\n",
       "      <th>std</th>\n",
       "      <td>2.560949e+14</td>\n",
       "      <td>7.129575e+04</td>\n",
       "      <td>23.110205</td>\n",
       "      <td>0.297675</td>\n",
       "      <td>0.397921</td>\n",
       "      <td>0.258265</td>\n",
       "      <td>0.171686</td>\n",
       "      <td>0.161543</td>\n",
       "      <td>0.466873</td>\n",
       "    </tr>\n",
       "    <tr>\n",
       "      <th>min</th>\n",
       "      <td>3.921784e+04</td>\n",
       "      <td>5.030230e+06</td>\n",
       "      <td>-1.000000</td>\n",
       "      <td>0.000000</td>\n",
       "      <td>0.000000</td>\n",
       "      <td>0.000000</td>\n",
       "      <td>0.000000</td>\n",
       "      <td>0.000000</td>\n",
       "      <td>0.000000</td>\n",
       "    </tr>\n",
       "    <tr>\n",
       "      <th>25%</th>\n",
       "      <td>4.172614e+12</td>\n",
       "      <td>5.640286e+06</td>\n",
       "      <td>18.000000</td>\n",
       "      <td>0.000000</td>\n",
       "      <td>0.000000</td>\n",
       "      <td>0.000000</td>\n",
       "      <td>0.000000</td>\n",
       "      <td>0.000000</td>\n",
       "      <td>0.000000</td>\n",
       "    </tr>\n",
       "    <tr>\n",
       "      <th>50%</th>\n",
       "      <td>3.173184e+13</td>\n",
       "      <td>5.680573e+06</td>\n",
       "      <td>37.000000</td>\n",
       "      <td>0.000000</td>\n",
       "      <td>0.000000</td>\n",
       "      <td>0.000000</td>\n",
       "      <td>0.000000</td>\n",
       "      <td>0.000000</td>\n",
       "      <td>0.000000</td>\n",
       "    </tr>\n",
       "    <tr>\n",
       "      <th>75%</th>\n",
       "      <td>9.439172e+13</td>\n",
       "      <td>5.725524e+06</td>\n",
       "      <td>55.000000</td>\n",
       "      <td>0.000000</td>\n",
       "      <td>0.000000</td>\n",
       "      <td>0.000000</td>\n",
       "      <td>0.000000</td>\n",
       "      <td>0.000000</td>\n",
       "      <td>1.000000</td>\n",
       "    </tr>\n",
       "    <tr>\n",
       "      <th>max</th>\n",
       "      <td>9.999816e+14</td>\n",
       "      <td>5.790484e+06</td>\n",
       "      <td>115.000000</td>\n",
       "      <td>1.000000</td>\n",
       "      <td>1.000000</td>\n",
       "      <td>1.000000</td>\n",
       "      <td>1.000000</td>\n",
       "      <td>4.000000</td>\n",
       "      <td>1.000000</td>\n",
       "    </tr>\n",
       "  </tbody>\n",
       "</table>\n",
       "</div>"
      ],
      "text/plain": [
       "          PatientId  AppointmentID            Age    Scholarship  \\\n",
       "count  1.105270e+05   1.105270e+05  110527.000000  110527.000000   \n",
       "mean   1.474963e+14   5.675305e+06      37.088874       0.098266   \n",
       "std    2.560949e+14   7.129575e+04      23.110205       0.297675   \n",
       "min    3.921784e+04   5.030230e+06      -1.000000       0.000000   \n",
       "25%    4.172614e+12   5.640286e+06      18.000000       0.000000   \n",
       "50%    3.173184e+13   5.680573e+06      37.000000       0.000000   \n",
       "75%    9.439172e+13   5.725524e+06      55.000000       0.000000   \n",
       "max    9.999816e+14   5.790484e+06     115.000000       1.000000   \n",
       "\n",
       "        Hipertension       Diabetes     Alcoholism        Handcap  \\\n",
       "count  110527.000000  110527.000000  110527.000000  110527.000000   \n",
       "mean        0.197246       0.071865       0.030400       0.022248   \n",
       "std         0.397921       0.258265       0.171686       0.161543   \n",
       "min         0.000000       0.000000       0.000000       0.000000   \n",
       "25%         0.000000       0.000000       0.000000       0.000000   \n",
       "50%         0.000000       0.000000       0.000000       0.000000   \n",
       "75%         0.000000       0.000000       0.000000       0.000000   \n",
       "max         1.000000       1.000000       1.000000       4.000000   \n",
       "\n",
       "        SMS_received  \n",
       "count  110527.000000  \n",
       "mean        0.321026  \n",
       "std         0.466873  \n",
       "min         0.000000  \n",
       "25%         0.000000  \n",
       "50%         0.000000  \n",
       "75%         1.000000  \n",
       "max         1.000000  "
      ]
     },
     "execution_count": 10,
     "metadata": {},
     "output_type": "execute_result"
    }
   ],
   "source": [
    "# Check for descriptive statistics\n",
    "\n",
    "medical_df.describe()"
   ]
  },
  {
   "cell_type": "markdown",
   "metadata": {},
   "source": [
    "The age column had values which are negatives. We have to investigate the column"
   ]
  },
  {
   "cell_type": "code",
   "execution_count": 11,
   "metadata": {},
   "outputs": [
    {
     "data": {
      "image/png": "[encoded data removed]",
      "text/plain": [
       "<Figure size 432x288 with 1 Axes>"
      ]
     },
     "metadata": {
      "needs_background": "light"
     },
     "output_type": "display_data"
    }
   ],
   "source": [
    "# Using boxplots to see the outliers in the column\n",
    "\n",
    "data = medical_df['Age']\n",
    "plt.boxplot(data);"
   ]
  },
  {
   "cell_type": "code",
   "execution_count": 12,
   "metadata": {},
   "outputs": [
    {
     "data": {
      "text/html": [
       "<div>\n",
       "<style scoped>\n",
       "    .dataframe tbody tr th:only-of-type {\n",
       "        vertical-align: middle;\n",
       "    }\n",
       "\n",
       "    .dataframe tbody tr th {\n",
       "        vertical-align: top;\n",
       "    }\n",
       "\n",
       "    .dataframe thead th {\n",
       "        text-align: right;\n",
       "    }\n",
       "</style>\n",
       "<table border=\"1\" class=\"dataframe\">\n",
       "  <thead>\n",
       "    <tr style=\"text-align: right;\">\n",
       "      <th></th>\n",
       "      <th>PatientId</th>\n",
       "      <th>AppointmentID</th>\n",
       "      <th>Gender</th>\n",
       "      <th>ScheduledDay</th>\n",
       "      <th>AppointmentDay</th>\n",
       "      <th>Age</th>\n",
       "      <th>Neighbourhood</th>\n",
       "      <th>Scholarship</th>\n",
       "      <th>Hipertension</th>\n",
       "      <th>Diabetes</th>\n",
       "      <th>Alcoholism</th>\n",
       "      <th>Handcap</th>\n",
       "      <th>SMS_received</th>\n",
       "      <th>No-show</th>\n",
       "    </tr>\n",
       "  </thead>\n",
       "  <tbody>\n",
       "    <tr>\n",
       "      <th>99832</th>\n",
       "      <td>4.659432e+14</td>\n",
       "      <td>5775010</td>\n",
       "      <td>F</td>\n",
       "      <td>2016-06-06T08:58:13Z</td>\n",
       "      <td>2016-06-06T00:00:00Z</td>\n",
       "      <td>-1</td>\n",
       "      <td>ROMÃO</td>\n",
       "      <td>0</td>\n",
       "      <td>0</td>\n",
       "      <td>0</td>\n",
       "      <td>0</td>\n",
       "      <td>0</td>\n",
       "      <td>0</td>\n",
       "      <td>No</td>\n",
       "    </tr>\n",
       "  </tbody>\n",
       "</table>\n",
       "</div>"
      ],
      "text/plain": [
       "          PatientId  AppointmentID Gender          ScheduledDay  \\\n",
       "99832  4.659432e+14        5775010      F  2016-06-06T08:58:13Z   \n",
       "\n",
       "             AppointmentDay  Age Neighbourhood  Scholarship  Hipertension  \\\n",
       "99832  2016-06-06T00:00:00Z   -1         ROMÃO            0             0   \n",
       "\n",
       "       Diabetes  Alcoholism  Handcap  SMS_received No-show  \n",
       "99832         0           0        0             0      No  "
      ]
     },
     "execution_count": 12,
     "metadata": {},
     "output_type": "execute_result"
    }
   ],
   "source": [
    "# Display columns below 0 and those above 100\n",
    "\n",
    "medical_df.query('Age < 0')"
   ]
  },
  {
   "cell_type": "code",
   "execution_count": 13,
   "metadata": {
    "scrolled": true
   },
   "outputs": [
    {
     "data": {
      "text/html": [
       "<div>\n",
       "<style scoped>\n",
       "    .dataframe tbody tr th:only-of-type {\n",
       "        vertical-align: middle;\n",
       "    }\n",
       "\n",
       "    .dataframe tbody tr th {\n",
       "        vertical-align: top;\n",
       "    }\n",
       "\n",
       "    .dataframe thead th {\n",
       "        text-align: right;\n",
       "    }\n",
       "</style>\n",
       "<table border=\"1\" class=\"dataframe\">\n",
       "  <thead>\n",
       "    <tr style=\"text-align: right;\">\n",
       "      <th></th>\n",
       "      <th>PatientId</th>\n",
       "      <th>AppointmentID</th>\n",
       "      <th>Gender</th>\n",
       "      <th>ScheduledDay</th>\n",
       "      <th>AppointmentDay</th>\n",
       "      <th>Age</th>\n",
       "      <th>Neighbourhood</th>\n",
       "      <th>Scholarship</th>\n",
       "      <th>Hipertension</th>\n",
       "      <th>Diabetes</th>\n",
       "      <th>Alcoholism</th>\n",
       "      <th>Handcap</th>\n",
       "      <th>SMS_received</th>\n",
       "      <th>No-show</th>\n",
       "    </tr>\n",
       "  </thead>\n",
       "  <tbody>\n",
       "    <tr>\n",
       "      <th>58014</th>\n",
       "      <td>9.762948e+14</td>\n",
       "      <td>5651757</td>\n",
       "      <td>F</td>\n",
       "      <td>2016-05-03T09:14:53Z</td>\n",
       "      <td>2016-05-03T00:00:00Z</td>\n",
       "      <td>102</td>\n",
       "      <td>CONQUISTA</td>\n",
       "      <td>0</td>\n",
       "      <td>0</td>\n",
       "      <td>0</td>\n",
       "      <td>0</td>\n",
       "      <td>0</td>\n",
       "      <td>0</td>\n",
       "      <td>No</td>\n",
       "    </tr>\n",
       "    <tr>\n",
       "      <th>63912</th>\n",
       "      <td>3.196321e+13</td>\n",
       "      <td>5700278</td>\n",
       "      <td>F</td>\n",
       "      <td>2016-05-16T09:17:44Z</td>\n",
       "      <td>2016-05-19T00:00:00Z</td>\n",
       "      <td>115</td>\n",
       "      <td>ANDORINHAS</td>\n",
       "      <td>0</td>\n",
       "      <td>0</td>\n",
       "      <td>0</td>\n",
       "      <td>0</td>\n",
       "      <td>1</td>\n",
       "      <td>0</td>\n",
       "      <td>Yes</td>\n",
       "    </tr>\n",
       "    <tr>\n",
       "      <th>63915</th>\n",
       "      <td>3.196321e+13</td>\n",
       "      <td>5700279</td>\n",
       "      <td>F</td>\n",
       "      <td>2016-05-16T09:17:44Z</td>\n",
       "      <td>2016-05-19T00:00:00Z</td>\n",
       "      <td>115</td>\n",
       "      <td>ANDORINHAS</td>\n",
       "      <td>0</td>\n",
       "      <td>0</td>\n",
       "      <td>0</td>\n",
       "      <td>0</td>\n",
       "      <td>1</td>\n",
       "      <td>0</td>\n",
       "      <td>Yes</td>\n",
       "    </tr>\n",
       "    <tr>\n",
       "      <th>68127</th>\n",
       "      <td>3.196321e+13</td>\n",
       "      <td>5562812</td>\n",
       "      <td>F</td>\n",
       "      <td>2016-04-08T14:29:17Z</td>\n",
       "      <td>2016-05-16T00:00:00Z</td>\n",
       "      <td>115</td>\n",
       "      <td>ANDORINHAS</td>\n",
       "      <td>0</td>\n",
       "      <td>0</td>\n",
       "      <td>0</td>\n",
       "      <td>0</td>\n",
       "      <td>1</td>\n",
       "      <td>0</td>\n",
       "      <td>Yes</td>\n",
       "    </tr>\n",
       "    <tr>\n",
       "      <th>76284</th>\n",
       "      <td>3.196321e+13</td>\n",
       "      <td>5744037</td>\n",
       "      <td>F</td>\n",
       "      <td>2016-05-30T09:44:51Z</td>\n",
       "      <td>2016-05-30T00:00:00Z</td>\n",
       "      <td>115</td>\n",
       "      <td>ANDORINHAS</td>\n",
       "      <td>0</td>\n",
       "      <td>0</td>\n",
       "      <td>0</td>\n",
       "      <td>0</td>\n",
       "      <td>1</td>\n",
       "      <td>0</td>\n",
       "      <td>No</td>\n",
       "    </tr>\n",
       "    <tr>\n",
       "      <th>90372</th>\n",
       "      <td>2.342836e+11</td>\n",
       "      <td>5751563</td>\n",
       "      <td>F</td>\n",
       "      <td>2016-05-31T10:19:49Z</td>\n",
       "      <td>2016-06-02T00:00:00Z</td>\n",
       "      <td>102</td>\n",
       "      <td>MARIA ORTIZ</td>\n",
       "      <td>0</td>\n",
       "      <td>0</td>\n",
       "      <td>0</td>\n",
       "      <td>0</td>\n",
       "      <td>0</td>\n",
       "      <td>0</td>\n",
       "      <td>No</td>\n",
       "    </tr>\n",
       "    <tr>\n",
       "      <th>97666</th>\n",
       "      <td>7.482346e+14</td>\n",
       "      <td>5717451</td>\n",
       "      <td>F</td>\n",
       "      <td>2016-05-19T07:57:56Z</td>\n",
       "      <td>2016-06-03T00:00:00Z</td>\n",
       "      <td>115</td>\n",
       "      <td>SÃO JOSÉ</td>\n",
       "      <td>0</td>\n",
       "      <td>1</td>\n",
       "      <td>0</td>\n",
       "      <td>0</td>\n",
       "      <td>0</td>\n",
       "      <td>1</td>\n",
       "      <td>No</td>\n",
       "    </tr>\n",
       "  </tbody>\n",
       "</table>\n",
       "</div>"
      ],
      "text/plain": [
       "          PatientId  AppointmentID Gender          ScheduledDay  \\\n",
       "58014  9.762948e+14        5651757      F  2016-05-03T09:14:53Z   \n",
       "63912  3.196321e+13        5700278      F  2016-05-16T09:17:44Z   \n",
       "63915  3.196321e+13        5700279      F  2016-05-16T09:17:44Z   \n",
       "68127  3.196321e+13        5562812      F  2016-04-08T14:29:17Z   \n",
       "76284  3.196321e+13        5744037      F  2016-05-30T09:44:51Z   \n",
       "90372  2.342836e+11        5751563      F  2016-05-31T10:19:49Z   \n",
       "97666  7.482346e+14        5717451      F  2016-05-19T07:57:56Z   \n",
       "\n",
       "             AppointmentDay  Age Neighbourhood  Scholarship  Hipertension  \\\n",
       "58014  2016-05-03T00:00:00Z  102     CONQUISTA            0             0   \n",
       "63912  2016-05-19T00:00:00Z  115    ANDORINHAS            0             0   \n",
       "63915  2016-05-19T00:00:00Z  115    ANDORINHAS            0             0   \n",
       "68127  2016-05-16T00:00:00Z  115    ANDORINHAS            0             0   \n",
       "76284  2016-05-30T00:00:00Z  115    ANDORINHAS            0             0   \n",
       "90372  2016-06-02T00:00:00Z  102   MARIA ORTIZ            0             0   \n",
       "97666  2016-06-03T00:00:00Z  115      SÃO JOSÉ            0             1   \n",
       "\n",
       "       Diabetes  Alcoholism  Handcap  SMS_received No-show  \n",
       "58014         0           0        0             0      No  \n",
       "63912         0           0        1             0     Yes  \n",
       "63915         0           0        1             0     Yes  \n",
       "68127         0           0        1             0     Yes  \n",
       "76284         0           0        1             0      No  \n",
       "90372         0           0        0             0      No  \n",
       "97666         0           0        0             1      No  "
      ]
     },
     "execution_count": 13,
     "metadata": {},
     "output_type": "execute_result"
    }
   ],
   "source": [
    "medical_df.query('Age>100')"
   ]
  },
  {
   "cell_type": "code",
   "execution_count": 14,
   "metadata": {},
   "outputs": [
    {
     "data": {
      "text/plain": [
       "<Figure size 1000x300 with 0 Axes>"
      ]
     },
     "metadata": {},
     "output_type": "display_data"
    },
    {
     "data": {
      "image/png": "[encoded data removed]",
      "text/plain": [
       "<Figure size 360x360 with 1 Axes>"
      ]
     },
     "metadata": {
      "needs_background": "light"
     },
     "output_type": "display_data"
    }
   ],
   "source": [
    "# Lets plot a histogram of the age column to see how age is distributed\n",
    "\n",
    "plt.figure(figsize=(10,3), dpi=100)\n",
    "sns.displot(medical_df['Age'],kde=True,color='indigo')\n",
    "plt.title(f'Histogram showing the distribution of Age');"
   ]
  },
  {
   "cell_type": "markdown",
   "metadata": {},
   "source": [
    "#### From the Data Understanding we found out\n",
    "\n",
    "1. The data contains 110527 rows and 14 columns\n",
    "2. We will to drop the 2 columns : PatientID and AppointmentID since they are not relevant onthe analysis.\n",
    "3. The data did not have missing values.\n",
    "4. No missing values in the data are reported.\n",
    "5. The Schedule date and Appointment Date have incorrect data types i.e object instead of datetime.\n",
    "6. Seven columns are Binary in nature that is We have seven columns which are binary that is Gender,Scholarship,Hipertension,Diabetes,Alcoholism,SMS received,No-show.\n",
    "7. The age column had a minimum value of -1 and a max value of 115 years.\n",
    "8. DISCLAIMER from the description given to the dataset : Be careful about the encoding of the last column: it says ‘No’ if the patient showed up to their appointment, and ‘Yes’ if they did not show up.\n",
    "\n"
   ]
  },
  {
   "cell_type": "code",
   "execution_count": null,
   "metadata": {},
   "outputs": [],
   "source": []
  },
  {
   "cell_type": "markdown",
   "metadata": {},
   "source": [
    "\n",
    "# 3. Data Cleaning\n",
    "\n",
    " "
   ]
  },
  {
   "cell_type": "markdown",
   "metadata": {},
   "source": [
    "## Renaming\n",
    "\n",
    "Lets rename the columns by :\n",
    "\n",
    "    (i) Removing white spaces.\n",
    "    \n",
    "    (ii) Converting all the columns to the lowercase for easier computation.\n",
    "    \n",
    "    (iii) Renaming columns which are mispelt."
   ]
  },
  {
   "cell_type": "code",
   "execution_count": 15,
   "metadata": {
    "scrolled": true
   },
   "outputs": [
    {
     "data": {
      "text/plain": [
       "Index(['PatientId', 'AppointmentID', 'Gender', 'ScheduledDay',\n",
       "       'AppointmentDay', 'Age', 'Neighbourhood', 'Scholarship', 'Hipertension',\n",
       "       'Diabetes', 'Alcoholism', 'Handcap', 'SMS_received', 'No-show'],\n",
       "      dtype='object')"
      ]
     },
     "execution_count": 15,
     "metadata": {},
     "output_type": "execute_result"
    }
   ],
   "source": [
    "medical_df.columns"
   ]
  },
  {
   "cell_type": "code",
   "execution_count": 16,
   "metadata": {},
   "outputs": [],
   "source": [
    "# Lets rename columns\n",
    "medical_df.rename(columns=lambda x: x.strip().lower().replace(\" \", \"_\"), inplace=True)\n"
   ]
  },
  {
   "cell_type": "code",
   "execution_count": 17,
   "metadata": {},
   "outputs": [],
   "source": [
    "# Renaming\n",
    "medical_df.rename(columns={'scheduledday' : 'scheduled_day','appointmentday':'appointment_day','hipertension': 'hypertension'},\n",
    "                 inplace=True)"
   ]
  },
  {
   "cell_type": "code",
   "execution_count": 18,
   "metadata": {
    "scrolled": true
   },
   "outputs": [
    {
     "data": {
      "text/html": [
       "<div>\n",
       "<style scoped>\n",
       "    .dataframe tbody tr th:only-of-type {\n",
       "        vertical-align: middle;\n",
       "    }\n",
       "\n",
       "    .dataframe tbody tr th {\n",
       "        vertical-align: top;\n",
       "    }\n",
       "\n",
       "    .dataframe thead th {\n",
       "        text-align: right;\n",
       "    }\n",
       "</style>\n",
       "<table border=\"1\" class=\"dataframe\">\n",
       "  <thead>\n",
       "    <tr style=\"text-align: right;\">\n",
       "      <th></th>\n",
       "      <th>patientid</th>\n",
       "      <th>appointmentid</th>\n",
       "      <th>gender</th>\n",
       "      <th>scheduled_day</th>\n",
       "      <th>appointment_day</th>\n",
       "      <th>age</th>\n",
       "      <th>neighbourhood</th>\n",
       "      <th>scholarship</th>\n",
       "      <th>hypertension</th>\n",
       "      <th>diabetes</th>\n",
       "      <th>alcoholism</th>\n",
       "      <th>handcap</th>\n",
       "      <th>sms_received</th>\n",
       "      <th>no-show</th>\n",
       "    </tr>\n",
       "  </thead>\n",
       "  <tbody>\n",
       "    <tr>\n",
       "      <th>0</th>\n",
       "      <td>2.987250e+13</td>\n",
       "      <td>5642903</td>\n",
       "      <td>F</td>\n",
       "      <td>2016-04-29T18:38:08Z</td>\n",
       "      <td>2016-04-29T00:00:00Z</td>\n",
       "      <td>62</td>\n",
       "      <td>JARDIM DA PENHA</td>\n",
       "      <td>0</td>\n",
       "      <td>1</td>\n",
       "      <td>0</td>\n",
       "      <td>0</td>\n",
       "      <td>0</td>\n",
       "      <td>0</td>\n",
       "      <td>No</td>\n",
       "    </tr>\n",
       "    <tr>\n",
       "      <th>1</th>\n",
       "      <td>5.589978e+14</td>\n",
       "      <td>5642503</td>\n",
       "      <td>M</td>\n",
       "      <td>2016-04-29T16:08:27Z</td>\n",
       "      <td>2016-04-29T00:00:00Z</td>\n",
       "      <td>56</td>\n",
       "      <td>JARDIM DA PENHA</td>\n",
       "      <td>0</td>\n",
       "      <td>0</td>\n",
       "      <td>0</td>\n",
       "      <td>0</td>\n",
       "      <td>0</td>\n",
       "      <td>0</td>\n",
       "      <td>No</td>\n",
       "    </tr>\n",
       "  </tbody>\n",
       "</table>\n",
       "</div>"
      ],
      "text/plain": [
       "      patientid  appointmentid gender         scheduled_day  \\\n",
       "0  2.987250e+13        5642903      F  2016-04-29T18:38:08Z   \n",
       "1  5.589978e+14        5642503      M  2016-04-29T16:08:27Z   \n",
       "\n",
       "        appointment_day  age    neighbourhood  scholarship  hypertension  \\\n",
       "0  2016-04-29T00:00:00Z   62  JARDIM DA PENHA            0             1   \n",
       "1  2016-04-29T00:00:00Z   56  JARDIM DA PENHA            0             0   \n",
       "\n",
       "   diabetes  alcoholism  handcap  sms_received no-show  \n",
       "0         0           0        0             0      No  \n",
       "1         0           0        0             0      No  "
      ]
     },
     "execution_count": 18,
     "metadata": {},
     "output_type": "execute_result"
    }
   ],
   "source": [
    "medical_df.head(2)"
   ]
  },
  {
   "cell_type": "markdown",
   "metadata": {},
   "source": [
    "## Dropping irrelevant columns\n",
    "\n",
    "Drop two columns which are irrelevant to the analysis."
   ]
  },
  {
   "cell_type": "code",
   "execution_count": 19,
   "metadata": {},
   "outputs": [],
   "source": [
    "# Lets drop irrelevant columns\n",
    "\n",
    "medical_df.drop(['patientid','appointmentid'],axis=1,inplace=True)"
   ]
  },
  {
   "cell_type": "code",
   "execution_count": 20,
   "metadata": {
    "scrolled": true
   },
   "outputs": [
    {
     "data": {
      "text/html": [
       "<div>\n",
       "<style scoped>\n",
       "    .dataframe tbody tr th:only-of-type {\n",
       "        vertical-align: middle;\n",
       "    }\n",
       "\n",
       "    .dataframe tbody tr th {\n",
       "        vertical-align: top;\n",
       "    }\n",
       "\n",
       "    .dataframe thead th {\n",
       "        text-align: right;\n",
       "    }\n",
       "</style>\n",
       "<table border=\"1\" class=\"dataframe\">\n",
       "  <thead>\n",
       "    <tr style=\"text-align: right;\">\n",
       "      <th></th>\n",
       "      <th>gender</th>\n",
       "      <th>scheduled_day</th>\n",
       "      <th>appointment_day</th>\n",
       "      <th>age</th>\n",
       "      <th>neighbourhood</th>\n",
       "      <th>scholarship</th>\n",
       "      <th>hypertension</th>\n",
       "      <th>diabetes</th>\n",
       "      <th>alcoholism</th>\n",
       "      <th>handcap</th>\n",
       "      <th>sms_received</th>\n",
       "      <th>no-show</th>\n",
       "    </tr>\n",
       "  </thead>\n",
       "  <tbody>\n",
       "    <tr>\n",
       "      <th>0</th>\n",
       "      <td>F</td>\n",
       "      <td>2016-04-29T18:38:08Z</td>\n",
       "      <td>2016-04-29T00:00:00Z</td>\n",
       "      <td>62</td>\n",
       "      <td>JARDIM DA PENHA</td>\n",
       "      <td>0</td>\n",
       "      <td>1</td>\n",
       "      <td>0</td>\n",
       "      <td>0</td>\n",
       "      <td>0</td>\n",
       "      <td>0</td>\n",
       "      <td>No</td>\n",
       "    </tr>\n",
       "    <tr>\n",
       "      <th>1</th>\n",
       "      <td>M</td>\n",
       "      <td>2016-04-29T16:08:27Z</td>\n",
       "      <td>2016-04-29T00:00:00Z</td>\n",
       "      <td>56</td>\n",
       "      <td>JARDIM DA PENHA</td>\n",
       "      <td>0</td>\n",
       "      <td>0</td>\n",
       "      <td>0</td>\n",
       "      <td>0</td>\n",
       "      <td>0</td>\n",
       "      <td>0</td>\n",
       "      <td>No</td>\n",
       "    </tr>\n",
       "  </tbody>\n",
       "</table>\n",
       "</div>"
      ],
      "text/plain": [
       "  gender         scheduled_day       appointment_day  age    neighbourhood  \\\n",
       "0      F  2016-04-29T18:38:08Z  2016-04-29T00:00:00Z   62  JARDIM DA PENHA   \n",
       "1      M  2016-04-29T16:08:27Z  2016-04-29T00:00:00Z   56  JARDIM DA PENHA   \n",
       "\n",
       "   scholarship  hypertension  diabetes  alcoholism  handcap  sms_received  \\\n",
       "0            0             1         0           0        0             0   \n",
       "1            0             0         0           0        0             0   \n",
       "\n",
       "  no-show  \n",
       "0      No  \n",
       "1      No  "
      ]
     },
     "execution_count": 20,
     "metadata": {},
     "output_type": "execute_result"
    }
   ],
   "source": [
    "medical_df.head(2)"
   ]
  },
  {
   "cell_type": "markdown",
   "metadata": {},
   "source": [
    "## Correcting Datatypes\n",
    "\n",
    "We'll convert the scheduled_date and appointment column from strings to datetime."
   ]
  },
  {
   "cell_type": "code",
   "execution_count": 21,
   "metadata": {},
   "outputs": [],
   "source": [
    "#  Lets use a for loop to iterate through the columns and change them to datetime.\n",
    "\n",
    "columns_names = [\"scheduled_day\", \"appointment_day\"]\n",
    "for col in columns_names:\n",
    "    medical_df[col] = pd.to_datetime(medical_df[col])\n",
    "    "
   ]
  },
  {
   "cell_type": "code",
   "execution_count": 22,
   "metadata": {},
   "outputs": [
    {
     "data": {
      "text/html": [
       "<div>\n",
       "<style scoped>\n",
       "    .dataframe tbody tr th:only-of-type {\n",
       "        vertical-align: middle;\n",
       "    }\n",
       "\n",
       "    .dataframe tbody tr th {\n",
       "        vertical-align: top;\n",
       "    }\n",
       "\n",
       "    .dataframe thead th {\n",
       "        text-align: right;\n",
       "    }\n",
       "</style>\n",
       "<table border=\"1\" class=\"dataframe\">\n",
       "  <thead>\n",
       "    <tr style=\"text-align: right;\">\n",
       "      <th></th>\n",
       "      <th>gender</th>\n",
       "      <th>scheduled_day</th>\n",
       "      <th>appointment_day</th>\n",
       "      <th>age</th>\n",
       "      <th>neighbourhood</th>\n",
       "      <th>scholarship</th>\n",
       "      <th>hypertension</th>\n",
       "      <th>diabetes</th>\n",
       "      <th>alcoholism</th>\n",
       "      <th>handcap</th>\n",
       "      <th>sms_received</th>\n",
       "      <th>no-show</th>\n",
       "    </tr>\n",
       "  </thead>\n",
       "  <tbody>\n",
       "    <tr>\n",
       "      <th>0</th>\n",
       "      <td>F</td>\n",
       "      <td>2016-04-29 18:38:08+00:00</td>\n",
       "      <td>2016-04-29 00:00:00+00:00</td>\n",
       "      <td>62</td>\n",
       "      <td>JARDIM DA PENHA</td>\n",
       "      <td>0</td>\n",
       "      <td>1</td>\n",
       "      <td>0</td>\n",
       "      <td>0</td>\n",
       "      <td>0</td>\n",
       "      <td>0</td>\n",
       "      <td>No</td>\n",
       "    </tr>\n",
       "    <tr>\n",
       "      <th>1</th>\n",
       "      <td>M</td>\n",
       "      <td>2016-04-29 16:08:27+00:00</td>\n",
       "      <td>2016-04-29 00:00:00+00:00</td>\n",
       "      <td>56</td>\n",
       "      <td>JARDIM DA PENHA</td>\n",
       "      <td>0</td>\n",
       "      <td>0</td>\n",
       "      <td>0</td>\n",
       "      <td>0</td>\n",
       "      <td>0</td>\n",
       "      <td>0</td>\n",
       "      <td>No</td>\n",
       "    </tr>\n",
       "  </tbody>\n",
       "</table>\n",
       "</div>"
      ],
      "text/plain": [
       "  gender             scheduled_day           appointment_day  age  \\\n",
       "0      F 2016-04-29 18:38:08+00:00 2016-04-29 00:00:00+00:00   62   \n",
       "1      M 2016-04-29 16:08:27+00:00 2016-04-29 00:00:00+00:00   56   \n",
       "\n",
       "     neighbourhood  scholarship  hypertension  diabetes  alcoholism  handcap  \\\n",
       "0  JARDIM DA PENHA            0             1         0           0        0   \n",
       "1  JARDIM DA PENHA            0             0         0           0        0   \n",
       "\n",
       "   sms_received no-show  \n",
       "0             0      No  \n",
       "1             0      No  "
      ]
     },
     "execution_count": 22,
     "metadata": {},
     "output_type": "execute_result"
    }
   ],
   "source": [
    "medical_df.head(2)"
   ]
  },
  {
   "cell_type": "code",
   "execution_count": 23,
   "metadata": {},
   "outputs": [
    {
     "data": {
      "text/plain": [
       "gender                          object\n",
       "scheduled_day      datetime64[ns, UTC]\n",
       "appointment_day    datetime64[ns, UTC]\n",
       "age                              int64\n",
       "neighbourhood                   object\n",
       "scholarship                      int64\n",
       "hypertension                     int64\n",
       "diabetes                         int64\n",
       "alcoholism                       int64\n",
       "handcap                          int64\n",
       "sms_received                     int64\n",
       "no-show                         object\n",
       "dtype: object"
      ]
     },
     "execution_count": 23,
     "metadata": {},
     "output_type": "execute_result"
    }
   ],
   "source": [
    "# Lets confirm the data types\n",
    "\n",
    "medical_df.dtypes"
   ]
  },
  {
   "cell_type": "markdown",
   "metadata": {},
   "source": [
    "## Investigate and clean the age column\n",
    "\n",
    "1. Lets drop rows with negative values since its not practical to have a negative age.\n",
    "\n",
    "2. Drop rows with values above 100 years because life expectancy is below 100 years worldwide.\n",
    "\n",
    "A centenarian is a person who has reached the age of 100 years. Because life expectancies worldwide are below 100 years, the term is invariably associated with longevity according to [wikipedia](#https://en.wikipedia.org/wiki/Centenarian)"
   ]
  },
  {
   "cell_type": "code",
   "execution_count": 24,
   "metadata": {
    "scrolled": true
   },
   "outputs": [
    {
     "data": {
      "text/html": [
       "<div>\n",
       "<style scoped>\n",
       "    .dataframe tbody tr th:only-of-type {\n",
       "        vertical-align: middle;\n",
       "    }\n",
       "\n",
       "    .dataframe tbody tr th {\n",
       "        vertical-align: top;\n",
       "    }\n",
       "\n",
       "    .dataframe thead th {\n",
       "        text-align: right;\n",
       "    }\n",
       "</style>\n",
       "<table border=\"1\" class=\"dataframe\">\n",
       "  <thead>\n",
       "    <tr style=\"text-align: right;\">\n",
       "      <th></th>\n",
       "      <th>gender</th>\n",
       "      <th>scheduled_day</th>\n",
       "      <th>appointment_day</th>\n",
       "      <th>age</th>\n",
       "      <th>neighbourhood</th>\n",
       "      <th>scholarship</th>\n",
       "      <th>hypertension</th>\n",
       "      <th>diabetes</th>\n",
       "      <th>alcoholism</th>\n",
       "      <th>handcap</th>\n",
       "      <th>sms_received</th>\n",
       "      <th>no-show</th>\n",
       "    </tr>\n",
       "  </thead>\n",
       "  <tbody>\n",
       "    <tr>\n",
       "      <th>99832</th>\n",
       "      <td>F</td>\n",
       "      <td>2016-06-06 08:58:13+00:00</td>\n",
       "      <td>2016-06-06 00:00:00+00:00</td>\n",
       "      <td>-1</td>\n",
       "      <td>ROMÃO</td>\n",
       "      <td>0</td>\n",
       "      <td>0</td>\n",
       "      <td>0</td>\n",
       "      <td>0</td>\n",
       "      <td>0</td>\n",
       "      <td>0</td>\n",
       "      <td>No</td>\n",
       "    </tr>\n",
       "  </tbody>\n",
       "</table>\n",
       "</div>"
      ],
      "text/plain": [
       "      gender             scheduled_day           appointment_day  age  \\\n",
       "99832      F 2016-06-06 08:58:13+00:00 2016-06-06 00:00:00+00:00   -1   \n",
       "\n",
       "      neighbourhood  scholarship  hypertension  diabetes  alcoholism  handcap  \\\n",
       "99832         ROMÃO            0             0         0           0        0   \n",
       "\n",
       "       sms_received no-show  \n",
       "99832             0      No  "
      ]
     },
     "execution_count": 24,
     "metadata": {},
     "output_type": "execute_result"
    }
   ],
   "source": [
    "# Create a dataframe with negative values and display the values\n",
    "negative_values = medical_df.query('age<0')\n",
    "negative_values"
   ]
  },
  {
   "cell_type": "code",
   "execution_count": 25,
   "metadata": {},
   "outputs": [],
   "source": [
    "# 1. Dropping the negative values\n",
    "\n",
    "medical_df.drop(negative_values.index,inplace=True)"
   ]
  },
  {
   "cell_type": "code",
   "execution_count": 26,
   "metadata": {},
   "outputs": [
    {
     "data": {
      "text/html": [
       "<div>\n",
       "<style scoped>\n",
       "    .dataframe tbody tr th:only-of-type {\n",
       "        vertical-align: middle;\n",
       "    }\n",
       "\n",
       "    .dataframe tbody tr th {\n",
       "        vertical-align: top;\n",
       "    }\n",
       "\n",
       "    .dataframe thead th {\n",
       "        text-align: right;\n",
       "    }\n",
       "</style>\n",
       "<table border=\"1\" class=\"dataframe\">\n",
       "  <thead>\n",
       "    <tr style=\"text-align: right;\">\n",
       "      <th></th>\n",
       "      <th>gender</th>\n",
       "      <th>scheduled_day</th>\n",
       "      <th>appointment_day</th>\n",
       "      <th>age</th>\n",
       "      <th>neighbourhood</th>\n",
       "      <th>scholarship</th>\n",
       "      <th>hypertension</th>\n",
       "      <th>diabetes</th>\n",
       "      <th>alcoholism</th>\n",
       "      <th>handcap</th>\n",
       "      <th>sms_received</th>\n",
       "      <th>no-show</th>\n",
       "    </tr>\n",
       "  </thead>\n",
       "  <tbody>\n",
       "  </tbody>\n",
       "</table>\n",
       "</div>"
      ],
      "text/plain": [
       "Empty DataFrame\n",
       "Columns: [gender, scheduled_day, appointment_day, age, neighbourhood, scholarship, hypertension, diabetes, alcoholism, handcap, sms_received, no-show]\n",
       "Index: []"
      ]
     },
     "execution_count": 26,
     "metadata": {},
     "output_type": "execute_result"
    }
   ],
   "source": [
    "# Confirm if it has been dropped\n",
    "medical_df.query('age<0')"
   ]
  },
  {
   "cell_type": "code",
   "execution_count": 27,
   "metadata": {
    "scrolled": true
   },
   "outputs": [
    {
     "data": {
      "text/html": [
       "<div>\n",
       "<style scoped>\n",
       "    .dataframe tbody tr th:only-of-type {\n",
       "        vertical-align: middle;\n",
       "    }\n",
       "\n",
       "    .dataframe tbody tr th {\n",
       "        vertical-align: top;\n",
       "    }\n",
       "\n",
       "    .dataframe thead th {\n",
       "        text-align: right;\n",
       "    }\n",
       "</style>\n",
       "<table border=\"1\" class=\"dataframe\">\n",
       "  <thead>\n",
       "    <tr style=\"text-align: right;\">\n",
       "      <th></th>\n",
       "      <th>gender</th>\n",
       "      <th>scheduled_day</th>\n",
       "      <th>appointment_day</th>\n",
       "      <th>age</th>\n",
       "      <th>neighbourhood</th>\n",
       "      <th>scholarship</th>\n",
       "      <th>hypertension</th>\n",
       "      <th>diabetes</th>\n",
       "      <th>alcoholism</th>\n",
       "      <th>handcap</th>\n",
       "      <th>sms_received</th>\n",
       "      <th>no-show</th>\n",
       "    </tr>\n",
       "  </thead>\n",
       "  <tbody>\n",
       "    <tr>\n",
       "      <th>58014</th>\n",
       "      <td>F</td>\n",
       "      <td>2016-05-03 09:14:53+00:00</td>\n",
       "      <td>2016-05-03 00:00:00+00:00</td>\n",
       "      <td>102</td>\n",
       "      <td>CONQUISTA</td>\n",
       "      <td>0</td>\n",
       "      <td>0</td>\n",
       "      <td>0</td>\n",
       "      <td>0</td>\n",
       "      <td>0</td>\n",
       "      <td>0</td>\n",
       "      <td>No</td>\n",
       "    </tr>\n",
       "    <tr>\n",
       "      <th>63912</th>\n",
       "      <td>F</td>\n",
       "      <td>2016-05-16 09:17:44+00:00</td>\n",
       "      <td>2016-05-19 00:00:00+00:00</td>\n",
       "      <td>115</td>\n",
       "      <td>ANDORINHAS</td>\n",
       "      <td>0</td>\n",
       "      <td>0</td>\n",
       "      <td>0</td>\n",
       "      <td>0</td>\n",
       "      <td>1</td>\n",
       "      <td>0</td>\n",
       "      <td>Yes</td>\n",
       "    </tr>\n",
       "    <tr>\n",
       "      <th>63915</th>\n",
       "      <td>F</td>\n",
       "      <td>2016-05-16 09:17:44+00:00</td>\n",
       "      <td>2016-05-19 00:00:00+00:00</td>\n",
       "      <td>115</td>\n",
       "      <td>ANDORINHAS</td>\n",
       "      <td>0</td>\n",
       "      <td>0</td>\n",
       "      <td>0</td>\n",
       "      <td>0</td>\n",
       "      <td>1</td>\n",
       "      <td>0</td>\n",
       "      <td>Yes</td>\n",
       "    </tr>\n",
       "    <tr>\n",
       "      <th>68127</th>\n",
       "      <td>F</td>\n",
       "      <td>2016-04-08 14:29:17+00:00</td>\n",
       "      <td>2016-05-16 00:00:00+00:00</td>\n",
       "      <td>115</td>\n",
       "      <td>ANDORINHAS</td>\n",
       "      <td>0</td>\n",
       "      <td>0</td>\n",
       "      <td>0</td>\n",
       "      <td>0</td>\n",
       "      <td>1</td>\n",
       "      <td>0</td>\n",
       "      <td>Yes</td>\n",
       "    </tr>\n",
       "    <tr>\n",
       "      <th>76284</th>\n",
       "      <td>F</td>\n",
       "      <td>2016-05-30 09:44:51+00:00</td>\n",
       "      <td>2016-05-30 00:00:00+00:00</td>\n",
       "      <td>115</td>\n",
       "      <td>ANDORINHAS</td>\n",
       "      <td>0</td>\n",
       "      <td>0</td>\n",
       "      <td>0</td>\n",
       "      <td>0</td>\n",
       "      <td>1</td>\n",
       "      <td>0</td>\n",
       "      <td>No</td>\n",
       "    </tr>\n",
       "    <tr>\n",
       "      <th>90372</th>\n",
       "      <td>F</td>\n",
       "      <td>2016-05-31 10:19:49+00:00</td>\n",
       "      <td>2016-06-02 00:00:00+00:00</td>\n",
       "      <td>102</td>\n",
       "      <td>MARIA ORTIZ</td>\n",
       "      <td>0</td>\n",
       "      <td>0</td>\n",
       "      <td>0</td>\n",
       "      <td>0</td>\n",
       "      <td>0</td>\n",
       "      <td>0</td>\n",
       "      <td>No</td>\n",
       "    </tr>\n",
       "    <tr>\n",
       "      <th>97666</th>\n",
       "      <td>F</td>\n",
       "      <td>2016-05-19 07:57:56+00:00</td>\n",
       "      <td>2016-06-03 00:00:00+00:00</td>\n",
       "      <td>115</td>\n",
       "      <td>SÃO JOSÉ</td>\n",
       "      <td>0</td>\n",
       "      <td>1</td>\n",
       "      <td>0</td>\n",
       "      <td>0</td>\n",
       "      <td>0</td>\n",
       "      <td>1</td>\n",
       "      <td>No</td>\n",
       "    </tr>\n",
       "  </tbody>\n",
       "</table>\n",
       "</div>"
      ],
      "text/plain": [
       "      gender             scheduled_day           appointment_day  age  \\\n",
       "58014      F 2016-05-03 09:14:53+00:00 2016-05-03 00:00:00+00:00  102   \n",
       "63912      F 2016-05-16 09:17:44+00:00 2016-05-19 00:00:00+00:00  115   \n",
       "63915      F 2016-05-16 09:17:44+00:00 2016-05-19 00:00:00+00:00  115   \n",
       "68127      F 2016-04-08 14:29:17+00:00 2016-05-16 00:00:00+00:00  115   \n",
       "76284      F 2016-05-30 09:44:51+00:00 2016-05-30 00:00:00+00:00  115   \n",
       "90372      F 2016-05-31 10:19:49+00:00 2016-06-02 00:00:00+00:00  102   \n",
       "97666      F 2016-05-19 07:57:56+00:00 2016-06-03 00:00:00+00:00  115   \n",
       "\n",
       "      neighbourhood  scholarship  hypertension  diabetes  alcoholism  handcap  \\\n",
       "58014     CONQUISTA            0             0         0           0        0   \n",
       "63912    ANDORINHAS            0             0         0           0        1   \n",
       "63915    ANDORINHAS            0             0         0           0        1   \n",
       "68127    ANDORINHAS            0             0         0           0        1   \n",
       "76284    ANDORINHAS            0             0         0           0        1   \n",
       "90372   MARIA ORTIZ            0             0         0           0        0   \n",
       "97666      SÃO JOSÉ            0             1         0           0        0   \n",
       "\n",
       "       sms_received no-show  \n",
       "58014             0      No  \n",
       "63912             0     Yes  \n",
       "63915             0     Yes  \n",
       "68127             0     Yes  \n",
       "76284             0      No  \n",
       "90372             0      No  \n",
       "97666             1      No  "
      ]
     },
     "execution_count": 27,
     "metadata": {},
     "output_type": "execute_result"
    }
   ],
   "source": [
    "# 2. Drop ages above 100 years\n",
    "over_100 = medical_df.query('age>100')\n",
    "over_100\n"
   ]
  },
  {
   "cell_type": "code",
   "execution_count": 28,
   "metadata": {},
   "outputs": [],
   "source": [
    "# Drop the rows\n",
    "\n",
    "medical_df.drop(over_100.index,inplace=True)"
   ]
  },
  {
   "cell_type": "code",
   "execution_count": 29,
   "metadata": {},
   "outputs": [
    {
     "data": {
      "text/html": [
       "<div>\n",
       "<style scoped>\n",
       "    .dataframe tbody tr th:only-of-type {\n",
       "        vertical-align: middle;\n",
       "    }\n",
       "\n",
       "    .dataframe tbody tr th {\n",
       "        vertical-align: top;\n",
       "    }\n",
       "\n",
       "    .dataframe thead th {\n",
       "        text-align: right;\n",
       "    }\n",
       "</style>\n",
       "<table border=\"1\" class=\"dataframe\">\n",
       "  <thead>\n",
       "    <tr style=\"text-align: right;\">\n",
       "      <th></th>\n",
       "      <th>gender</th>\n",
       "      <th>scheduled_day</th>\n",
       "      <th>appointment_day</th>\n",
       "      <th>age</th>\n",
       "      <th>neighbourhood</th>\n",
       "      <th>scholarship</th>\n",
       "      <th>hypertension</th>\n",
       "      <th>diabetes</th>\n",
       "      <th>alcoholism</th>\n",
       "      <th>handcap</th>\n",
       "      <th>sms_received</th>\n",
       "      <th>no-show</th>\n",
       "    </tr>\n",
       "  </thead>\n",
       "  <tbody>\n",
       "  </tbody>\n",
       "</table>\n",
       "</div>"
      ],
      "text/plain": [
       "Empty DataFrame\n",
       "Columns: [gender, scheduled_day, appointment_day, age, neighbourhood, scholarship, hypertension, diabetes, alcoholism, handcap, sms_received, no-show]\n",
       "Index: []"
      ]
     },
     "execution_count": 29,
     "metadata": {},
     "output_type": "execute_result"
    }
   ],
   "source": [
    "# Confirm if they are dropped\n",
    "medical_df.query('age>100')"
   ]
  },
  {
   "cell_type": "markdown",
   "metadata": {},
   "source": [
    "## Encoding the no-show column"
   ]
  },
  {
   "cell_type": "code",
   "execution_count": 30,
   "metadata": {},
   "outputs": [],
   "source": [
    "medical_df['no-show'] = medical_df['no-show'].apply(lambda x : 0 if x == 'No' else 1)"
   ]
  },
  {
   "cell_type": "code",
   "execution_count": 31,
   "metadata": {},
   "outputs": [
    {
     "data": {
      "text/html": [
       "<div>\n",
       "<style scoped>\n",
       "    .dataframe tbody tr th:only-of-type {\n",
       "        vertical-align: middle;\n",
       "    }\n",
       "\n",
       "    .dataframe tbody tr th {\n",
       "        vertical-align: top;\n",
       "    }\n",
       "\n",
       "    .dataframe thead th {\n",
       "        text-align: right;\n",
       "    }\n",
       "</style>\n",
       "<table border=\"1\" class=\"dataframe\">\n",
       "  <thead>\n",
       "    <tr style=\"text-align: right;\">\n",
       "      <th></th>\n",
       "      <th>gender</th>\n",
       "      <th>scheduled_day</th>\n",
       "      <th>appointment_day</th>\n",
       "      <th>age</th>\n",
       "      <th>neighbourhood</th>\n",
       "      <th>scholarship</th>\n",
       "      <th>hypertension</th>\n",
       "      <th>diabetes</th>\n",
       "      <th>alcoholism</th>\n",
       "      <th>handcap</th>\n",
       "      <th>sms_received</th>\n",
       "      <th>no-show</th>\n",
       "    </tr>\n",
       "  </thead>\n",
       "  <tbody>\n",
       "    <tr>\n",
       "      <th>0</th>\n",
       "      <td>F</td>\n",
       "      <td>2016-04-29 18:38:08+00:00</td>\n",
       "      <td>2016-04-29 00:00:00+00:00</td>\n",
       "      <td>62</td>\n",
       "      <td>JARDIM DA PENHA</td>\n",
       "      <td>0</td>\n",
       "      <td>1</td>\n",
       "      <td>0</td>\n",
       "      <td>0</td>\n",
       "      <td>0</td>\n",
       "      <td>0</td>\n",
       "      <td>0</td>\n",
       "    </tr>\n",
       "    <tr>\n",
       "      <th>1</th>\n",
       "      <td>M</td>\n",
       "      <td>2016-04-29 16:08:27+00:00</td>\n",
       "      <td>2016-04-29 00:00:00+00:00</td>\n",
       "      <td>56</td>\n",
       "      <td>JARDIM DA PENHA</td>\n",
       "      <td>0</td>\n",
       "      <td>0</td>\n",
       "      <td>0</td>\n",
       "      <td>0</td>\n",
       "      <td>0</td>\n",
       "      <td>0</td>\n",
       "      <td>0</td>\n",
       "    </tr>\n",
       "    <tr>\n",
       "      <th>2</th>\n",
       "      <td>F</td>\n",
       "      <td>2016-04-29 16:19:04+00:00</td>\n",
       "      <td>2016-04-29 00:00:00+00:00</td>\n",
       "      <td>62</td>\n",
       "      <td>MATA DA PRAIA</td>\n",
       "      <td>0</td>\n",
       "      <td>0</td>\n",
       "      <td>0</td>\n",
       "      <td>0</td>\n",
       "      <td>0</td>\n",
       "      <td>0</td>\n",
       "      <td>0</td>\n",
       "    </tr>\n",
       "    <tr>\n",
       "      <th>3</th>\n",
       "      <td>F</td>\n",
       "      <td>2016-04-29 17:29:31+00:00</td>\n",
       "      <td>2016-04-29 00:00:00+00:00</td>\n",
       "      <td>8</td>\n",
       "      <td>PONTAL DE CAMBURI</td>\n",
       "      <td>0</td>\n",
       "      <td>0</td>\n",
       "      <td>0</td>\n",
       "      <td>0</td>\n",
       "      <td>0</td>\n",
       "      <td>0</td>\n",
       "      <td>0</td>\n",
       "    </tr>\n",
       "    <tr>\n",
       "      <th>4</th>\n",
       "      <td>F</td>\n",
       "      <td>2016-04-29 16:07:23+00:00</td>\n",
       "      <td>2016-04-29 00:00:00+00:00</td>\n",
       "      <td>56</td>\n",
       "      <td>JARDIM DA PENHA</td>\n",
       "      <td>0</td>\n",
       "      <td>1</td>\n",
       "      <td>1</td>\n",
       "      <td>0</td>\n",
       "      <td>0</td>\n",
       "      <td>0</td>\n",
       "      <td>0</td>\n",
       "    </tr>\n",
       "  </tbody>\n",
       "</table>\n",
       "</div>"
      ],
      "text/plain": [
       "  gender             scheduled_day           appointment_day  age  \\\n",
       "0      F 2016-04-29 18:38:08+00:00 2016-04-29 00:00:00+00:00   62   \n",
       "1      M 2016-04-29 16:08:27+00:00 2016-04-29 00:00:00+00:00   56   \n",
       "2      F 2016-04-29 16:19:04+00:00 2016-04-29 00:00:00+00:00   62   \n",
       "3      F 2016-04-29 17:29:31+00:00 2016-04-29 00:00:00+00:00    8   \n",
       "4      F 2016-04-29 16:07:23+00:00 2016-04-29 00:00:00+00:00   56   \n",
       "\n",
       "       neighbourhood  scholarship  hypertension  diabetes  alcoholism  \\\n",
       "0    JARDIM DA PENHA            0             1         0           0   \n",
       "1    JARDIM DA PENHA            0             0         0           0   \n",
       "2      MATA DA PRAIA            0             0         0           0   \n",
       "3  PONTAL DE CAMBURI            0             0         0           0   \n",
       "4    JARDIM DA PENHA            0             1         1           0   \n",
       "\n",
       "   handcap  sms_received  no-show  \n",
       "0        0             0        0  \n",
       "1        0             0        0  \n",
       "2        0             0        0  \n",
       "3        0             0        0  \n",
       "4        0             0        0  "
      ]
     },
     "execution_count": 31,
     "metadata": {},
     "output_type": "execute_result"
    }
   ],
   "source": [
    "medical_df.head()"
   ]
  },
  {
   "cell_type": "markdown",
   "metadata": {},
   "source": [
    "<a id='eda'></a>\n",
    "# 4. Exploratory Data Analysis\n",
    "\n"
   ]
  },
  {
   "cell_type": "markdown",
   "metadata": {},
   "source": [
    "# Research Question One: Does the area a patient resides affect whether they will attend an appointment or not?"
   ]
  },
  {
   "cell_type": "code",
   "execution_count": 88,
   "metadata": {},
   "outputs": [
    {
     "data": {
      "image/png": "[encoded data removed]",
      "text/plain": [
       "<Figure size 2160x720 with 1 Axes>"
      ]
     },
     "metadata": {
      "needs_background": "light"
     },
     "output_type": "display_data"
    }
   ],
   "source": [
    "# Plotting distribution of data in the attendance column\n",
    "\n",
    "plt.figure(figsize=(30,10))\n",
    "sns.countplot(x=medical_df['neighbourhood'])\n",
    "plt.title('Distribution of the population in the areas')\n",
    "plt.xticks(rotation=90)\n",
    "plt.show();"
   ]
  },
  {
   "cell_type": "code",
   "execution_count": 82,
   "metadata": {},
   "outputs": [
    {
     "data": {
      "image/png": "[encoded data removed]",
      "text/plain": [
       "<Figure size 2160x720 with 1 Axes>"
      ]
     },
     "metadata": {
      "needs_background": "light"
     },
     "output_type": "display_data"
    }
   ],
   "source": [
    "# Plotting a countplot showing those who attended and those who did not.\n",
    "plt.figure(figsize=(30, 10))\n",
    "sns.countplot(x=medical_df['neighbourhood'], hue=medical_df['show']);\n",
    "plt.xticks(rotation=90);\n",
    "plt.title('Attendance in different Neighborhood');"
   ]
  },
  {
   "cell_type": "markdown",
   "metadata": {},
   "source": [
    "## Research Question Two : Does Gender affect if one attends hospital?"
   ]
  },
  {
   "cell_type": "code",
   "execution_count": 33,
   "metadata": {},
   "outputs": [
    {
     "data": {
      "text/plain": [
       "0    88203\n",
       "1    22316\n",
       "Name: no-show, dtype: int64"
      ]
     },
     "execution_count": 33,
     "metadata": {},
     "output_type": "execute_result"
    }
   ],
   "source": [
    "# Checking number of patients who attended and didn't attend\n",
    "\n",
    "patients_count = medical_df[\"no-show\"].value_counts()\n",
    "patients_count"
   ]
  },
  {
   "cell_type": "code",
   "execution_count": 34,
   "metadata": {
    "scrolled": true
   },
   "outputs": [
    {
     "data": {
      "image/png": "[encoded data removed]",
      "text/plain": [
       "<Figure size 432x288 with 1 Axes>"
      ]
     },
     "metadata": {},
     "output_type": "display_data"
    }
   ],
   "source": [
    "# Pie chart displays how many patient attended to appointment and how many didn't\n",
    "\n",
    "plt.pie(patients_count,labels=[\"Showed\", \"No_show\"], autopct='%1.1f%%', textprops={'fontsize': 18},\n",
    "        explode = (0, 0.3))\n",
    "\n",
    "plt.rcParams['font.size'] = 12\n",
    "plt.title(\"Percentage of patients who showed up\",fontsize=15)\n",
    "plt.legend()\n",
    "plt.show()"
   ]
  },
  {
   "cell_type": "code",
   "execution_count": 35,
   "metadata": {},
   "outputs": [],
   "source": [
    "medical_df.rename(columns={'no-show' : 'show'},inplace=True)"
   ]
  },
  {
   "cell_type": "markdown",
   "metadata": {},
   "source": [
    "From the visualization we can see that 79.8% from all patients already attended and 20.2% didn't attend"
   ]
  },
  {
   "cell_type": "code",
   "execution_count": 36,
   "metadata": {
    "scrolled": true
   },
   "outputs": [
    {
     "data": {
      "text/plain": [
       "show  gender\n",
       "0     F         57241\n",
       "      M         30962\n",
       "1     F         14591\n",
       "      M          7725\n",
       "dtype: int64"
      ]
     },
     "execution_count": 36,
     "metadata": {},
     "output_type": "execute_result"
    }
   ],
   "source": [
    "medical_df[['gender','show']].groupby('show').value_counts('gender')"
   ]
  },
  {
   "cell_type": "code",
   "execution_count": 77,
   "metadata": {
    "scrolled": true
   },
   "outputs": [
    {
     "data": {
      "image/png": "[encoded data removed]",
      "text/plain": [
       "<Figure size 720x288 with 1 Axes>"
      ]
     },
     "metadata": {
      "needs_background": "light"
     },
     "output_type": "display_data"
    }
   ],
   "source": [
    "sns.countplot(x=medical_df['show'],hue=medical_df['gender'])\n",
    "plt.title('Gender show up for the appointment')\n",
    "plt.show()"
   ]
  },
  {
   "cell_type": "markdown",
   "metadata": {},
   "source": [
    "From the visualization it's obvious that The attendance rate for Females is higher than male.\n",
    "\n",
    "This maybe because we have more data of females but that also show that they vist hospitals more in general."
   ]
  },
  {
   "cell_type": "markdown",
   "metadata": {},
   "source": [
    "# Research Question Three: Does age affect whether one shows up for an appointment?"
   ]
  },
  {
   "cell_type": "code",
   "execution_count": 93,
   "metadata": {},
   "outputs": [
    {
     "data": {
      "image/png": "[encoded data removed]",
      "text/plain": [
       "<Figure size 720x216 with 1 Axes>"
      ]
     },
     "metadata": {
      "needs_background": "light"
     },
     "output_type": "display_data"
    }
   ],
   "source": [
    "# Lets plot the distribution of patients by age groups\n",
    "plt.figure(figsize=(10,3))\n",
    "sns.countplot(x=medical_df['age_groups'])\n",
    "plt.title('Distribution of age in the data set');"
   ]
  },
  {
   "cell_type": "code",
   "execution_count": 95,
   "metadata": {
    "scrolled": true
   },
   "outputs": [
    {
     "data": {
      "image/png": "[encoded data removed]",
      "text/plain": [
       "<Figure size 720x216 with 1 Axes>"
      ]
     },
     "metadata": {
      "needs_background": "light"
     },
     "output_type": "display_data"
    }
   ],
   "source": [
    "# Plot a visual to show whether one showed up for an appointment or not\n",
    "plt.figure(figsize=(10,3))\n",
    "sns.countplot(x=medical_df['age_groups'],hue=medical_df['show'])\n",
    "plt.title('Distribution of how different age groups showed up for their appointments');"
   ]
  },
  {
   "cell_type": "markdown",
   "metadata": {},
   "source": [
    "From the visual above we can see that age has no great impact to whther one shows up for their appointments or not."
   ]
  },
  {
   "cell_type": "markdown",
   "metadata": {},
   "source": [
    "# Research Question Four : Does alcoholism and diseases have any effect on whether one will show up for an appointment ?"
   ]
  },
  {
   "cell_type": "code",
   "execution_count": 100,
   "metadata": {
    "scrolled": true
   },
   "outputs": [
    {
     "data": {
      "image/png": "[encoded data removed]",
      "text/plain": [
       "<Figure size 1440x2160 with 4 Axes>"
      ]
     },
     "metadata": {
      "needs_background": "light"
     },
     "output_type": "display_data"
    }
   ],
   "source": [
    "# Lets plot how alocoholism and other diseases affected whether one showed up for the appointment or not\n",
    "\n",
    "condition_patients = medical_df[['alcoholism','diabetes','hypertension','handcap']]\n",
    "\n",
    "plt.figure(figsize=(20,30))\n",
    "plt.subplot(2,2,1)\n",
    "sns.countplot(x=condition_patients['alcoholism'],hue = medical_df['show'])\n",
    "\n",
    "plt.subplot(2,2,2)\n",
    "sns.countplot(x=condition_patients['diabetes'],hue = medical_df['show'])\n",
    "\n",
    "plt.subplot(2,2,3)\n",
    "sns.countplot(x=condition_patients['hypertension'],hue = medical_df['show'])\n",
    "\n",
    "plt.subplot(2,2,4)\n",
    "sns.countplot(x=condition_patients['handcap'],hue = medical_df['show']);"
   ]
  },
  {
   "cell_type": "markdown",
   "metadata": {},
   "source": [
    "We see that most of them don't have a disease and show up for appointment but we notice that patients of hypertension show up either when they are infected or not which is a mark that hypertension will probably show up more."
   ]
  },
  {
   "cell_type": "markdown",
   "metadata": {},
   "source": [
    "# 5. Conclusion."
   ]
  },
  {
   "cell_type": "markdown",
   "metadata": {},
   "source": [
    "Now we can see the factors that affect the absence of the patients more clearly. \n",
    "\n",
    "The gender and age are the most important factor as we saw earlier that female and youth show up for their appointment more than male and old people. \n",
    "\n",
    "Neighbohood and hypertension come after gender and age as there are some neighborhoods that the diseases are spread and patients with hypertension tend to show up if they have it or not. \n",
    "\n",
    "We need to search for more factors to help patient remember their appointments and show up."
   ]
  }
 ],
 "metadata": {
  "kernelspec": {
   "display_name": "Python 3 (ipykernel)",
   "language": "python",
   "name": "python3"
  },
  "language_info": {
   "codemirror_mode": {
    "name": "ipython",
    "version": 3
   },
   "file_extension": ".py",
   "mimetype": "text/x-python",
   "name": "python",
   "nbconvert_exporter": "python",
   "pygments_lexer": "ipython3",
   "version": "3.9.12"
  }
 },
 "nbformat": 4,
 "nbformat_minor": 2
}
